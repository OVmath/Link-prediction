{
 "cells": [
  {
   "cell_type": "markdown",
   "id": "32e09515",
   "metadata": {},
   "source": [
    "# 1 Khai báo thư viện"
   ]
  },
  {
   "cell_type": "code",
   "execution_count": 30,
   "id": "b17a7370",
   "metadata": {},
   "outputs": [],
   "source": [
    "import numpy as np \n",
    "import pandas as pd\n",
    "from py2neo import Graph\n",
    "import matplotlib.pyplot as plt\n",
    "plt.style.use('seaborn-v0_8-whitegrid')\n",
    "import time"
   ]
  },
  {
   "cell_type": "code",
   "execution_count": 2,
   "id": "b4951b75",
   "metadata": {},
   "outputs": [],
   "source": [
    "plt.style.use('fivethirtyeight')\n",
    "pd.set_option('display.float_format', lambda x: '%.3f' % x)"
   ]
  },
  {
   "cell_type": "markdown",
   "id": "4dcf88d2",
   "metadata": {},
   "source": [
    "# 2 Đọc và phân tích dữ liệu "
   ]
  },
  {
   "cell_type": "code",
   "execution_count": 14,
   "id": "8f073a61",
   "metadata": {},
   "outputs": [
    {
     "data": {
      "text/html": [
       "<div>\n",
       "<style scoped>\n",
       "    .dataframe tbody tr th:only-of-type {\n",
       "        vertical-align: middle;\n",
       "    }\n",
       "\n",
       "    .dataframe tbody tr th {\n",
       "        vertical-align: top;\n",
       "    }\n",
       "\n",
       "    .dataframe thead th {\n",
       "        text-align: right;\n",
       "    }\n",
       "</style>\n",
       "<table border=\"1\" class=\"dataframe\">\n",
       "  <thead>\n",
       "    <tr style=\"text-align: right;\">\n",
       "      <th></th>\n",
       "      <th>show_id</th>\n",
       "      <th>type</th>\n",
       "      <th>title</th>\n",
       "      <th>director</th>\n",
       "      <th>cast</th>\n",
       "      <th>country</th>\n",
       "      <th>date_added</th>\n",
       "      <th>release_year</th>\n",
       "      <th>rating</th>\n",
       "      <th>duration</th>\n",
       "      <th>listed_in</th>\n",
       "    </tr>\n",
       "  </thead>\n",
       "  <tbody>\n",
       "    <tr>\n",
       "      <th>0</th>\n",
       "      <td>81145628</td>\n",
       "      <td>Movie</td>\n",
       "      <td>Norm of the North: King Sized Adventure</td>\n",
       "      <td>Richard Finn, Tim Maltby</td>\n",
       "      <td>Alan Marriott, Andrew Toth, Brian Dobson, Cole...</td>\n",
       "      <td>United States, India, South Korea, China</td>\n",
       "      <td>September 9, 2019</td>\n",
       "      <td>2019</td>\n",
       "      <td>TV-PG</td>\n",
       "      <td>90 min</td>\n",
       "      <td>Children &amp; Family Movies, Comedies</td>\n",
       "    </tr>\n",
       "    <tr>\n",
       "      <th>4</th>\n",
       "      <td>80125979</td>\n",
       "      <td>Movie</td>\n",
       "      <td>#realityhigh</td>\n",
       "      <td>Fernando Lebrija</td>\n",
       "      <td>Nesta Cooper, Kate Walsh, John Michael Higgins...</td>\n",
       "      <td>United States</td>\n",
       "      <td>September 8, 2017</td>\n",
       "      <td>2017</td>\n",
       "      <td>TV-14</td>\n",
       "      <td>99 min</td>\n",
       "      <td>Comedies</td>\n",
       "    </tr>\n",
       "    <tr>\n",
       "      <th>6</th>\n",
       "      <td>70304989</td>\n",
       "      <td>Movie</td>\n",
       "      <td>Automata</td>\n",
       "      <td>Gabe Ibáñez</td>\n",
       "      <td>Antonio Banderas, Dylan McDermott, Melanie Gri...</td>\n",
       "      <td>Bulgaria, United States, Spain, Canada</td>\n",
       "      <td>September 8, 2017</td>\n",
       "      <td>2014</td>\n",
       "      <td>R</td>\n",
       "      <td>110 min</td>\n",
       "      <td>International Movies, Sci-Fi &amp; Fantasy, Thrillers</td>\n",
       "    </tr>\n",
       "    <tr>\n",
       "      <th>7</th>\n",
       "      <td>80164077</td>\n",
       "      <td>Movie</td>\n",
       "      <td>Fabrizio Copano: Solo pienso en mi</td>\n",
       "      <td>Rodrigo Toro, Francisco Schultz</td>\n",
       "      <td>Fabrizio Copano</td>\n",
       "      <td>Chile</td>\n",
       "      <td>September 8, 2017</td>\n",
       "      <td>2017</td>\n",
       "      <td>TV-MA</td>\n",
       "      <td>60 min</td>\n",
       "      <td>Stand-Up Comedy</td>\n",
       "    </tr>\n",
       "    <tr>\n",
       "      <th>9</th>\n",
       "      <td>70304990</td>\n",
       "      <td>Movie</td>\n",
       "      <td>Good People</td>\n",
       "      <td>Henrik Ruben Genz</td>\n",
       "      <td>James Franco, Kate Hudson, Tom Wilkinson, Omar...</td>\n",
       "      <td>United States, United Kingdom, Denmark, Sweden</td>\n",
       "      <td>September 8, 2017</td>\n",
       "      <td>2014</td>\n",
       "      <td>R</td>\n",
       "      <td>90 min</td>\n",
       "      <td>Action &amp; Adventure, Thrillers</td>\n",
       "    </tr>\n",
       "  </tbody>\n",
       "</table>\n",
       "</div>"
      ],
      "text/plain": [
       "    show_id   type                                    title  \\\n",
       "0  81145628  Movie  Norm of the North: King Sized Adventure   \n",
       "4  80125979  Movie                             #realityhigh   \n",
       "6  70304989  Movie                                 Automata   \n",
       "7  80164077  Movie       Fabrizio Copano: Solo pienso en mi   \n",
       "9  70304990  Movie                              Good People   \n",
       "\n",
       "                          director  \\\n",
       "0         Richard Finn, Tim Maltby   \n",
       "4                 Fernando Lebrija   \n",
       "6                      Gabe Ibáñez   \n",
       "7  Rodrigo Toro, Francisco Schultz   \n",
       "9                Henrik Ruben Genz   \n",
       "\n",
       "                                                cast  \\\n",
       "0  Alan Marriott, Andrew Toth, Brian Dobson, Cole...   \n",
       "4  Nesta Cooper, Kate Walsh, John Michael Higgins...   \n",
       "6  Antonio Banderas, Dylan McDermott, Melanie Gri...   \n",
       "7                                    Fabrizio Copano   \n",
       "9  James Franco, Kate Hudson, Tom Wilkinson, Omar...   \n",
       "\n",
       "                                          country         date_added  \\\n",
       "0        United States, India, South Korea, China  September 9, 2019   \n",
       "4                                   United States  September 8, 2017   \n",
       "6          Bulgaria, United States, Spain, Canada  September 8, 2017   \n",
       "7                                           Chile  September 8, 2017   \n",
       "9  United States, United Kingdom, Denmark, Sweden  September 8, 2017   \n",
       "\n",
       "   release_year rating duration  \\\n",
       "0          2019  TV-PG   90 min   \n",
       "4          2017  TV-14   99 min   \n",
       "6          2014      R  110 min   \n",
       "7          2017  TV-MA   60 min   \n",
       "9          2014      R   90 min   \n",
       "\n",
       "                                           listed_in  \n",
       "0                 Children & Family Movies, Comedies  \n",
       "4                                           Comedies  \n",
       "6  International Movies, Sci-Fi & Fantasy, Thrillers  \n",
       "7                                    Stand-Up Comedy  \n",
       "9                      Action & Adventure, Thrillers  "
      ]
     },
     "execution_count": 14,
     "metadata": {},
     "output_type": "execute_result"
    }
   ],
   "source": [
    "df = pd.read_csv('netflix_titles.csv')\n",
    "df=df.drop(['description'],axis=1)\n",
    "df=df.dropna(subset=['title','cast','release_year','type','listed_in','director'])\n",
    "df.head()"
   ]
  },
  {
   "cell_type": "code",
   "execution_count": 15,
   "id": "23b82bfa",
   "metadata": {},
   "outputs": [
    {
     "data": {
      "text/plain": [
       "type\n",
       "Movie      3805\n",
       "TV Show     104\n",
       "Name: show_id, dtype: int64"
      ]
     },
     "execution_count": 15,
     "metadata": {},
     "output_type": "execute_result"
    }
   ],
   "source": [
    "df.groupby(\"type\")[\"show_id\"].count()"
   ]
  },
  {
   "cell_type": "code",
   "execution_count": 16,
   "id": "6c0fe1d0",
   "metadata": {},
   "outputs": [
    {
     "data": {
      "text/plain": [
       "False"
      ]
     },
     "execution_count": 16,
     "metadata": {},
     "output_type": "execute_result"
    }
   ],
   "source": [
    "df['title'].is_unique"
   ]
  },
  {
   "cell_type": "code",
   "execution_count": 17,
   "id": "5ec3c5c1",
   "metadata": {},
   "outputs": [
    {
     "name": "stdout",
     "output_type": "stream",
     "text": [
      "             show_id  type  director  cast  country  date_added  release_year  \\\n",
      "title                                                                           \n",
      "Benji              2     2         2     2        2           2             2   \n",
      "Blood Money        2     2         2     2        2           2             2   \n",
      "\n",
      "             rating  duration  listed_in  \n",
      "title                                     \n",
      "Benji             2         2          2  \n",
      "Blood Money       2         2          2  \n"
     ]
    }
   ],
   "source": [
    "df2=df.groupby(['title']).count()\n",
    "print(df2[df2['show_id']>1][0:2]) \n",
    "#Print the lists of titles appearing more than one time"
   ]
  },
  {
   "cell_type": "code",
   "execution_count": 18,
   "id": "f8a1cf73",
   "metadata": {},
   "outputs": [
    {
     "data": {
      "text/html": [
       "<div>\n",
       "<style scoped>\n",
       "    .dataframe tbody tr th:only-of-type {\n",
       "        vertical-align: middle;\n",
       "    }\n",
       "\n",
       "    .dataframe tbody tr th {\n",
       "        vertical-align: top;\n",
       "    }\n",
       "\n",
       "    .dataframe thead th {\n",
       "        text-align: right;\n",
       "    }\n",
       "</style>\n",
       "<table border=\"1\" class=\"dataframe\">\n",
       "  <thead>\n",
       "    <tr style=\"text-align: right;\">\n",
       "      <th></th>\n",
       "      <th>show_id</th>\n",
       "      <th>type</th>\n",
       "      <th>title</th>\n",
       "      <th>director</th>\n",
       "      <th>cast</th>\n",
       "      <th>country</th>\n",
       "      <th>date_added</th>\n",
       "      <th>release_year</th>\n",
       "      <th>rating</th>\n",
       "      <th>duration</th>\n",
       "      <th>listed_in</th>\n",
       "    </tr>\n",
       "  </thead>\n",
       "  <tbody>\n",
       "    <tr>\n",
       "      <th>1969</th>\n",
       "      <td>296682</td>\n",
       "      <td>Movie</td>\n",
       "      <td>Benji</td>\n",
       "      <td>Joe Camp</td>\n",
       "      <td>Benji, Deborah Walley, Peter Breck, Edgar Buch...</td>\n",
       "      <td>United States</td>\n",
       "      <td>March 6, 2018</td>\n",
       "      <td>1974</td>\n",
       "      <td>G</td>\n",
       "      <td>86 min</td>\n",
       "      <td>Children &amp; Family Movies, Classic Movies</td>\n",
       "    </tr>\n",
       "    <tr>\n",
       "      <th>2159</th>\n",
       "      <td>80204923</td>\n",
       "      <td>Movie</td>\n",
       "      <td>Benji</td>\n",
       "      <td>Brandon Camp</td>\n",
       "      <td>Gabriel Bateman, Darby Camp, Kiele Sanchez, Je...</td>\n",
       "      <td>United Arab Emirates, United States</td>\n",
       "      <td>March 16, 2018</td>\n",
       "      <td>2018</td>\n",
       "      <td>TV-PG</td>\n",
       "      <td>87 min</td>\n",
       "      <td>Children &amp; Family Movies, Dramas</td>\n",
       "    </tr>\n",
       "  </tbody>\n",
       "</table>\n",
       "</div>"
      ],
      "text/plain": [
       "       show_id   type  title      director  \\\n",
       "1969    296682  Movie  Benji      Joe Camp   \n",
       "2159  80204923  Movie  Benji  Brandon Camp   \n",
       "\n",
       "                                                   cast  \\\n",
       "1969  Benji, Deborah Walley, Peter Breck, Edgar Buch...   \n",
       "2159  Gabriel Bateman, Darby Camp, Kiele Sanchez, Je...   \n",
       "\n",
       "                                  country      date_added  release_year  \\\n",
       "1969                        United States   March 6, 2018          1974   \n",
       "2159  United Arab Emirates, United States  March 16, 2018          2018   \n",
       "\n",
       "     rating duration                                 listed_in  \n",
       "1969      G   86 min  Children & Family Movies, Classic Movies  \n",
       "2159  TV-PG   87 min          Children & Family Movies, Dramas  "
      ]
     },
     "execution_count": 18,
     "metadata": {},
     "output_type": "execute_result"
    }
   ],
   "source": [
    "df[df['title']=='Benji']"
   ]
  },
  {
   "cell_type": "code",
   "execution_count": 19,
   "id": "581475f8",
   "metadata": {},
   "outputs": [
    {
     "data": {
      "text/plain": [
       "False"
      ]
     },
     "execution_count": 19,
     "metadata": {},
     "output_type": "execute_result"
    }
   ],
   "source": [
    "df['title']=df['title']+', ' + df['duration']\n",
    "df['title'].is_unique"
   ]
  },
  {
   "cell_type": "code",
   "execution_count": 20,
   "id": "4f6900fe",
   "metadata": {},
   "outputs": [
    {
     "name": "stdout",
     "output_type": "stream",
     "text": [
      "                     show_id  type  director  cast  country  date_added  \\\n",
      "title                                                                     \n",
      "Sarkar, 162 min            2     2         2     2        2           2   \n",
      "The Silence, 91 min        2     2         2     2        2           2   \n",
      "\n",
      "                     release_year  rating  duration  listed_in  \n",
      "title                                                           \n",
      "Sarkar, 162 min                 2       2         2          2  \n",
      "The Silence, 91 min             2       2         2          2  \n"
     ]
    }
   ],
   "source": [
    "df2=df.groupby(['title']).count()\n",
    "print(df2[df2['show_id']>1]) "
   ]
  },
  {
   "cell_type": "code",
   "execution_count": 23,
   "id": "8f92efb3",
   "metadata": {},
   "outputs": [
    {
     "data": {
      "text/html": [
       "<div>\n",
       "<style scoped>\n",
       "    .dataframe tbody tr th:only-of-type {\n",
       "        vertical-align: middle;\n",
       "    }\n",
       "\n",
       "    .dataframe tbody tr th {\n",
       "        vertical-align: top;\n",
       "    }\n",
       "\n",
       "    .dataframe thead th {\n",
       "        text-align: right;\n",
       "    }\n",
       "</style>\n",
       "<table border=\"1\" class=\"dataframe\">\n",
       "  <thead>\n",
       "    <tr style=\"text-align: right;\">\n",
       "      <th></th>\n",
       "      <th>show_id</th>\n",
       "      <th>type</th>\n",
       "      <th>title</th>\n",
       "      <th>director</th>\n",
       "      <th>cast</th>\n",
       "      <th>country</th>\n",
       "      <th>date_added</th>\n",
       "      <th>release_year</th>\n",
       "      <th>rating</th>\n",
       "      <th>duration</th>\n",
       "      <th>listed_in</th>\n",
       "    </tr>\n",
       "  </thead>\n",
       "  <tbody>\n",
       "    <tr>\n",
       "      <th>2123</th>\n",
       "      <td>81075235</td>\n",
       "      <td>Movie</td>\n",
       "      <td>Sarkar, 162 min</td>\n",
       "      <td>A.R. Murugadoss</td>\n",
       "      <td>Vijay, Varalakshmi Sarathkumar, Keerthi Suresh...</td>\n",
       "      <td>India</td>\n",
       "      <td>March 2, 2019</td>\n",
       "      <td>2018</td>\n",
       "      <td>TV-MA</td>\n",
       "      <td>162 min</td>\n",
       "      <td>Action &amp; Adventure, Dramas, International Movies</td>\n",
       "    </tr>\n",
       "    <tr>\n",
       "      <th>2124</th>\n",
       "      <td>81072516</td>\n",
       "      <td>Movie</td>\n",
       "      <td>Sarkar, 162 min</td>\n",
       "      <td>A.R. Murugadoss</td>\n",
       "      <td>Vijay, Varalakshmi Sarathkumar, Keerthi Suresh...</td>\n",
       "      <td>India</td>\n",
       "      <td>March 2, 2019</td>\n",
       "      <td>2018</td>\n",
       "      <td>TV-MA</td>\n",
       "      <td>162 min</td>\n",
       "      <td>Action &amp; Adventure, Dramas, International Movies</td>\n",
       "    </tr>\n",
       "  </tbody>\n",
       "</table>\n",
       "</div>"
      ],
      "text/plain": [
       "       show_id   type            title         director  \\\n",
       "2123  81075235  Movie  Sarkar, 162 min  A.R. Murugadoss   \n",
       "2124  81072516  Movie  Sarkar, 162 min  A.R. Murugadoss   \n",
       "\n",
       "                                                   cast country  \\\n",
       "2123  Vijay, Varalakshmi Sarathkumar, Keerthi Suresh...   India   \n",
       "2124  Vijay, Varalakshmi Sarathkumar, Keerthi Suresh...   India   \n",
       "\n",
       "         date_added  release_year rating duration  \\\n",
       "2123  March 2, 2019          2018  TV-MA  162 min   \n",
       "2124  March 2, 2019          2018  TV-MA  162 min   \n",
       "\n",
       "                                             listed_in  \n",
       "2123  Action & Adventure, Dramas, International Movies  \n",
       "2124  Action & Adventure, Dramas, International Movies  "
      ]
     },
     "execution_count": 23,
     "metadata": {},
     "output_type": "execute_result"
    }
   ],
   "source": [
    "df[df['title']=='Sarkar, 162 min']"
   ]
  },
  {
   "cell_type": "code",
   "execution_count": 24,
   "id": "8720618b",
   "metadata": {},
   "outputs": [
    {
     "data": {
      "text/plain": [
       "True"
      ]
     },
     "execution_count": 24,
     "metadata": {},
     "output_type": "execute_result"
    }
   ],
   "source": [
    "df.drop_duplicates(subset=['title'], inplace = True) \n",
    "df['title'].is_unique"
   ]
  },
  {
   "cell_type": "code",
   "execution_count": 25,
   "id": "4085e772",
   "metadata": {},
   "outputs": [
    {
     "data": {
      "text/html": [
       "<div>\n",
       "<style scoped>\n",
       "    .dataframe tbody tr th:only-of-type {\n",
       "        vertical-align: middle;\n",
       "    }\n",
       "\n",
       "    .dataframe tbody tr th {\n",
       "        vertical-align: top;\n",
       "    }\n",
       "\n",
       "    .dataframe thead th {\n",
       "        text-align: right;\n",
       "    }\n",
       "</style>\n",
       "<table border=\"1\" class=\"dataframe\">\n",
       "  <thead>\n",
       "    <tr style=\"text-align: right;\">\n",
       "      <th></th>\n",
       "      <th>show_id</th>\n",
       "      <th>type</th>\n",
       "      <th>title</th>\n",
       "      <th>director</th>\n",
       "      <th>cast</th>\n",
       "      <th>country</th>\n",
       "      <th>date_added</th>\n",
       "      <th>release_year</th>\n",
       "      <th>rating</th>\n",
       "      <th>duration</th>\n",
       "      <th>listed_in</th>\n",
       "    </tr>\n",
       "  </thead>\n",
       "  <tbody>\n",
       "    <tr>\n",
       "      <th>0</th>\n",
       "      <td>81145628</td>\n",
       "      <td>Movie</td>\n",
       "      <td>Norm of the North: King Sized Adventure, 90 min</td>\n",
       "      <td>Richard Finn, Tim Maltby</td>\n",
       "      <td>Alan Marriott, Andrew Toth, Brian Dobson, Cole...</td>\n",
       "      <td>United States, India, South Korea, China</td>\n",
       "      <td>September 9, 2019</td>\n",
       "      <td>2019</td>\n",
       "      <td>TV-PG</td>\n",
       "      <td>90 min</td>\n",
       "      <td>Children &amp; Family Movies, Comedies</td>\n",
       "    </tr>\n",
       "    <tr>\n",
       "      <th>4</th>\n",
       "      <td>80125979</td>\n",
       "      <td>Movie</td>\n",
       "      <td>#realityhigh, 99 min</td>\n",
       "      <td>Fernando Lebrija</td>\n",
       "      <td>Nesta Cooper, Kate Walsh, John Michael Higgins...</td>\n",
       "      <td>United States</td>\n",
       "      <td>September 8, 2017</td>\n",
       "      <td>2017</td>\n",
       "      <td>TV-14</td>\n",
       "      <td>99 min</td>\n",
       "      <td>Comedies</td>\n",
       "    </tr>\n",
       "    <tr>\n",
       "      <th>6</th>\n",
       "      <td>70304989</td>\n",
       "      <td>Movie</td>\n",
       "      <td>Automata, 110 min</td>\n",
       "      <td>Gabe Ibáñez</td>\n",
       "      <td>Antonio Banderas, Dylan McDermott, Melanie Gri...</td>\n",
       "      <td>Bulgaria, United States, Spain, Canada</td>\n",
       "      <td>September 8, 2017</td>\n",
       "      <td>2014</td>\n",
       "      <td>R</td>\n",
       "      <td>110 min</td>\n",
       "      <td>International Movies, Sci-Fi &amp; Fantasy, Thrillers</td>\n",
       "    </tr>\n",
       "    <tr>\n",
       "      <th>7</th>\n",
       "      <td>80164077</td>\n",
       "      <td>Movie</td>\n",
       "      <td>Fabrizio Copano: Solo pienso en mi, 60 min</td>\n",
       "      <td>Rodrigo Toro, Francisco Schultz</td>\n",
       "      <td>Fabrizio Copano</td>\n",
       "      <td>Chile</td>\n",
       "      <td>September 8, 2017</td>\n",
       "      <td>2017</td>\n",
       "      <td>TV-MA</td>\n",
       "      <td>60 min</td>\n",
       "      <td>Stand-Up Comedy</td>\n",
       "    </tr>\n",
       "    <tr>\n",
       "      <th>9</th>\n",
       "      <td>70304990</td>\n",
       "      <td>Movie</td>\n",
       "      <td>Good People, 90 min</td>\n",
       "      <td>Henrik Ruben Genz</td>\n",
       "      <td>James Franco, Kate Hudson, Tom Wilkinson, Omar...</td>\n",
       "      <td>United States, United Kingdom, Denmark, Sweden</td>\n",
       "      <td>September 8, 2017</td>\n",
       "      <td>2014</td>\n",
       "      <td>R</td>\n",
       "      <td>90 min</td>\n",
       "      <td>Action &amp; Adventure, Thrillers</td>\n",
       "    </tr>\n",
       "  </tbody>\n",
       "</table>\n",
       "</div>"
      ],
      "text/plain": [
       "    show_id   type                                            title  \\\n",
       "0  81145628  Movie  Norm of the North: King Sized Adventure, 90 min   \n",
       "4  80125979  Movie                             #realityhigh, 99 min   \n",
       "6  70304989  Movie                                Automata, 110 min   \n",
       "7  80164077  Movie       Fabrizio Copano: Solo pienso en mi, 60 min   \n",
       "9  70304990  Movie                              Good People, 90 min   \n",
       "\n",
       "                          director  \\\n",
       "0         Richard Finn, Tim Maltby   \n",
       "4                 Fernando Lebrija   \n",
       "6                      Gabe Ibáñez   \n",
       "7  Rodrigo Toro, Francisco Schultz   \n",
       "9                Henrik Ruben Genz   \n",
       "\n",
       "                                                cast  \\\n",
       "0  Alan Marriott, Andrew Toth, Brian Dobson, Cole...   \n",
       "4  Nesta Cooper, Kate Walsh, John Michael Higgins...   \n",
       "6  Antonio Banderas, Dylan McDermott, Melanie Gri...   \n",
       "7                                    Fabrizio Copano   \n",
       "9  James Franco, Kate Hudson, Tom Wilkinson, Omar...   \n",
       "\n",
       "                                          country         date_added  \\\n",
       "0        United States, India, South Korea, China  September 9, 2019   \n",
       "4                                   United States  September 8, 2017   \n",
       "6          Bulgaria, United States, Spain, Canada  September 8, 2017   \n",
       "7                                           Chile  September 8, 2017   \n",
       "9  United States, United Kingdom, Denmark, Sweden  September 8, 2017   \n",
       "\n",
       "   release_year rating duration  \\\n",
       "0          2019  TV-PG   90 min   \n",
       "4          2017  TV-14   99 min   \n",
       "6          2014      R  110 min   \n",
       "7          2017  TV-MA   60 min   \n",
       "9          2014      R   90 min   \n",
       "\n",
       "                                           listed_in  \n",
       "0                 Children & Family Movies, Comedies  \n",
       "4                                           Comedies  \n",
       "6  International Movies, Sci-Fi & Fantasy, Thrillers  \n",
       "7                                    Stand-Up Comedy  \n",
       "9                      Action & Adventure, Thrillers  "
      ]
     },
     "execution_count": 25,
     "metadata": {},
     "output_type": "execute_result"
    }
   ],
   "source": [
    "df.head()"
   ]
  },
  {
   "cell_type": "markdown",
   "id": "c5f68fda",
   "metadata": {},
   "source": [
    "# 3 Kết nối và tạo CSDL đồ thị dựa trên tập dữ liệu đã cho"
   ]
  },
  {
   "cell_type": "code",
   "execution_count": 3,
   "id": "1f236260",
   "metadata": {},
   "outputs": [],
   "source": [
    "#In this code just change the password for your password\n",
    "graph = Graph(\"bolt://localhost:7687\", auth=(\"neo4j\", \"1234567a@\"))"
   ]
  },
  {
   "cell_type": "code",
   "execution_count": 22,
   "id": "ca644eb6",
   "metadata": {},
   "outputs": [],
   "source": [
    "#Set true to load all the nodes and relationship\n",
    "LOAD_DATA = True\n",
    "#Set False after creating all the nodes to avoid creating them again\n",
    "\n",
    "def run_request(request,LOAD_DATA=False):\n",
    "    if (LOAD_DATA):\n",
    "        start_time = time.time()\n",
    "        print(graph.run(request)) \n",
    "        exec_time = time.time() - start_time\n",
    "        print(f'-- {exec_time} seconds --')\n",
    "\n",
    "def run_request2(request,LOAD_DATA=False):\n",
    "    if (LOAD_DATA):\n",
    "        start_time = time.time()\n",
    "        graph.run(request).stats()\n",
    "        exec_time = time.time() - start_time\n",
    "        print(f'-- {exec_time} seconds --')\n",
    "\n",
    "def run_request3(request,LOAD_DATA=False):\n",
    "    if (LOAD_DATA):\n",
    "        start_time = time.time()\n",
    "        print(graph.run(request).to_data_frame())\n",
    "        exec_time = time.time() - start_time\n",
    "        print(f'-- {exec_time} seconds --')"
   ]
  },
  {
   "cell_type": "code",
   "execution_count": 5,
   "id": "1d1716f6",
   "metadata": {},
   "outputs": [],
   "source": [
    "# Create function delete relationship\n",
    "def delete_relationship(rel):\n",
    "    query = \"MATCH ()-[r:\"+rel+\"]->() Delete r\"\n",
    "    graph.run(query,rel=rel)"
   ]
  },
  {
   "cell_type": "code",
   "execution_count": 30,
   "id": "dc79838b",
   "metadata": {},
   "outputs": [
    {
     "name": "stdout",
     "output_type": "stream",
     "text": [
      "0/3907 done ... -- 0.23264384269714355 seconds --\n",
      "500/3907 done ... -- 2.8377044200897217 seconds --\n",
      "1000/3907 done ... -- 4.883681774139404 seconds --\n",
      "2500/3907 done ... -- 9.712626457214355 seconds --\n",
      "3000/3907 done ... -- 11.284763813018799 seconds --\n",
      "3500/3907 done ... -- 12.641592264175415 seconds --\n",
      "4500/3907 done ... -- 15.525352239608765 seconds --\n",
      "5000/3907 done ... -- 16.8397376537323 seconds --\n",
      "5500/3907 done ... -- 18.247820138931274 seconds --\n",
      " ... End ... -- 18.592957973480225 seconds --\n"
     ]
    }
   ],
   "source": [
    "# CREATE SHOW\n",
    "\n",
    "request =\"\"\"\n",
    "CREATE (m:Show {id: $show_id,title: $title})\n",
    "SET \n",
    "m.release_year = $release_year,\n",
    "m.rating = $rating,\n",
    "m.duration = $duration, \n",
    "m.genre = $genre,\n",
    "m.cast = $cast,\n",
    "m.director = $director,\n",
    "m.type = $show_type\n",
    "\"\"\"\n",
    "\n",
    "start_time = time.time()\n",
    "count=df.shape[0]\n",
    "if (LOAD_DATA):\n",
    "    for index, row in df.iterrows():\n",
    "        graph.run(request,\n",
    "                  show_id=row['show_id'],\n",
    "                  title=row['title'],        \n",
    "                  duration=None if pd.isnull(row['duration']) else row['duration'],\n",
    "                  genre=None if pd.isnull(row['listed_in']) else row['listed_in'],\n",
    "                  rating=None if pd.isnull(row['rating']) else row['rating'],\n",
    "                  cast= None if pd.isnull(row['cast']) else row['cast'],\n",
    "                  release_year=None if pd.isnull(row['release_year']) else row['release_year'],\n",
    "                  director=None if pd.isnull(row['director']) else row['director'],\n",
    "                  show_type = None if pd.isnull(row['type']) else row['type']\n",
    "                  )\n",
    "        if (index%500==0):\n",
    "            exec_time = time.time() - start_time\n",
    "            print(f'{index}/{df.shape[0]} done ... -- {exec_time} seconds --')\n",
    "        \n",
    "    exec_time = time.time() - start_time\n",
    "    print(f' ... End ... -- {exec_time} seconds --')   "
   ]
  },
  {
   "cell_type": "code",
   "execution_count": 31,
   "id": "efb97ea0",
   "metadata": {},
   "outputs": [
    {
     "data": {
      "text/plain": [
       "(3907, 11)"
      ]
     },
     "execution_count": 31,
     "metadata": {},
     "output_type": "execute_result"
    }
   ],
   "source": [
    "df.shape"
   ]
  },
  {
   "cell_type": "code",
   "execution_count": 32,
   "id": "c7f408de",
   "metadata": {},
   "outputs": [
    {
     "name": "stdout",
     "output_type": "stream",
     "text": [
      "(No data)\n",
      "-- 116.32645893096924 seconds --\n"
     ]
    }
   ],
   "source": [
    "# CREATE  Actor\n",
    "request =\"\"\"\n",
    "MATCH (s:Show)\n",
    "WHERE s.cast IS NOT NULL\n",
    "WITH s\n",
    "UNWIND split(s.cast, ',') AS actor\n",
    "MERGE (a:Actor {name: trim(actor)})\n",
    "MERGE (a)-[r:ACTED_IN]->(s);\n",
    "\"\"\" \n",
    "run_request(request,LOAD_DATA)   "
   ]
  },
  {
   "cell_type": "code",
   "execution_count": 33,
   "id": "9d30323a",
   "metadata": {},
   "outputs": [
    {
     "name": "stdout",
     "output_type": "stream",
     "text": [
      "(No data)\n",
      "-- 0.55165696144104 seconds --\n"
     ]
    }
   ],
   "source": [
    "# CREATE Genre    \n",
    "request =\"\"\"    \n",
    "MATCH (s:Show)\n",
    "WHERE s.genre IS NOT NULL\n",
    "WITH s\n",
    "UNWIND split(s.genre, ',') AS genre\n",
    "MERGE (g:Genre {name: trim(genre)})\n",
    "MERGE (s)-[r:IN_GENRE]->(g);\n",
    "\"\"\"    \n",
    "run_request(request,LOAD_DATA)"
   ]
  },
  {
   "cell_type": "code",
   "execution_count": 34,
   "id": "731b0cd1",
   "metadata": {},
   "outputs": [
    {
     "data": {
      "image/png": "[encoded data removed]",
      "text/plain": [
       "<Figure size 1000x800 with 1 Axes>"
      ]
     },
     "metadata": {},
     "output_type": "display_data"
    }
   ],
   "source": [
    "request=\"\"\"\n",
    "MATCH (g:Genre)<-[rel:IN_GENRE]-(s:Show)\n",
    "WITH g.name as genre,count(*) as total\n",
    "RETURN  genre,total\n",
    "ORDER BY total DESC\n",
    "\"\"\"\n",
    "result = graph.run(request).to_data_frame()\n",
    "result.plot.barh(x='genre', y='total',figsize=(10,8))\n",
    "plt.show()"
   ]
  },
  {
   "cell_type": "code",
   "execution_count": 35,
   "id": "d1b69c44",
   "metadata": {},
   "outputs": [
    {
     "data": {
      "text/html": [
       "<div>\n",
       "<style scoped>\n",
       "    .dataframe tbody tr th:only-of-type {\n",
       "        vertical-align: middle;\n",
       "    }\n",
       "\n",
       "    .dataframe tbody tr th {\n",
       "        vertical-align: top;\n",
       "    }\n",
       "\n",
       "    .dataframe thead th {\n",
       "        text-align: right;\n",
       "    }\n",
       "</style>\n",
       "<table border=\"1\" class=\"dataframe\">\n",
       "  <thead>\n",
       "    <tr style=\"text-align: right;\">\n",
       "      <th></th>\n",
       "      <th>label</th>\n",
       "      <th>count</th>\n",
       "    </tr>\n",
       "  </thead>\n",
       "  <tbody>\n",
       "    <tr>\n",
       "      <th>2</th>\n",
       "      <td>Genre</td>\n",
       "      <td>42</td>\n",
       "    </tr>\n",
       "    <tr>\n",
       "      <th>0</th>\n",
       "      <td>Show</td>\n",
       "      <td>3907</td>\n",
       "    </tr>\n",
       "    <tr>\n",
       "      <th>1</th>\n",
       "      <td>Actor</td>\n",
       "      <td>19237</td>\n",
       "    </tr>\n",
       "  </tbody>\n",
       "</table>\n",
       "</div>"
      ],
      "text/plain": [
       "   label  count\n",
       "2  Genre     42\n",
       "0   Show   3907\n",
       "1  Actor  19237"
      ]
     },
     "execution_count": 35,
     "metadata": {},
     "output_type": "execute_result"
    }
   ],
   "source": [
    "result = {\"label\": [], \"count\": []}\n",
    "for label in graph.run(\"CALL db.labels()\").to_series():\n",
    "    query = f\"MATCH (:`{label}`) RETURN count(*) as count\"\n",
    "    count = graph.run(query).to_data_frame().iloc[0]['count']\n",
    "    result[\"label\"].append(label)\n",
    "    result[\"count\"].append(count)\n",
    "nodes_df = pd.DataFrame(data=result)\n",
    "nodes_df.sort_values(\"count\")"
   ]
  },
  {
   "cell_type": "code",
   "execution_count": 36,
   "id": "28c87315",
   "metadata": {},
   "outputs": [
    {
     "data": {
      "image/png": "[encoded data removed]",
      "text/plain": [
       "<Figure size 640x480 with 1 Axes>"
      ]
     },
     "metadata": {},
     "output_type": "display_data"
    }
   ],
   "source": [
    "nodes_df.plot(kind='bar', x='label', y='count', legend=None, title=\"Number of Node Types\")\n",
    "plt.xticks(rotation=0)\n",
    "plt.tight_layout()\n",
    "plt.show()"
   ]
  },
  {
   "cell_type": "code",
   "execution_count": 37,
   "id": "98b8676a",
   "metadata": {},
   "outputs": [
    {
     "name": "stdout",
     "output_type": "stream",
     "text": [
      "(No data)\n",
      "-- 0.24807095527648926 seconds --\n"
     ]
    }
   ],
   "source": [
    "# DELETE UNUSED PROPERTY\n",
    "request=\"\"\"\n",
    "MATCH(s:Show)\n",
    "SET s.cast =null, s.genre = null\n",
    "\"\"\"\n",
    "run_request(request,LOAD_DATA) "
   ]
  },
  {
   "cell_type": "code",
   "execution_count": 42,
   "id": "dbea543e",
   "metadata": {},
   "outputs": [
    {
     "name": "stdout",
     "output_type": "stream",
     "text": [
      "-- 0.7884025573730469 seconds --\n"
     ]
    }
   ],
   "source": [
    "#Creating same_actor relationship\n",
    "query = \"\"\"\n",
    "MATCH (s:Show)<-[rel:ACTED_IN]-(actor:Actor)-[:ACTED_IN]->(s2:Show)\n",
    "WITH s, s2, count(*) AS collaborations\n",
    "MERGE (s)-[same_actor:SAME_ACTOR]-(s2)\n",
    "SET same_actor.collaborations = collaborations;\n",
    "\"\"\"\n",
    "run_request2(query,LOAD_DATA=True)"
   ]
  },
  {
   "cell_type": "code",
   "execution_count": 5,
   "id": "bebf4190",
   "metadata": {},
   "outputs": [
    {
     "name": "stdout",
     "output_type": "stream",
     "text": [
      "-- 1383.4674243927002 seconds --\n"
     ]
    }
   ],
   "source": [
    "#Creating same_genre relationship\n",
    "query = \"\"\"\n",
    "MATCH (s:Show)-[rel:IN_GENRE]->(genre)<-[:IN_GENRE]-(s2:Show)\n",
    "WITH s, s2, count(*) AS collaborations\n",
    "MERGE (s)-[same_genre:SAME_GENRE]-(s2)\n",
    "SET same_genre.collaborations = collaborations;\n",
    "\"\"\"\n",
    "run_request2(query,LOAD_DATA=True)"
   ]
  },
  {
   "cell_type": "code",
   "execution_count": 6,
   "id": "58a8e801",
   "metadata": {},
   "outputs": [
    {
     "data": {
      "text/html": [
       "<div>\n",
       "<style scoped>\n",
       "    .dataframe tbody tr th:only-of-type {\n",
       "        vertical-align: middle;\n",
       "    }\n",
       "\n",
       "    .dataframe tbody tr th {\n",
       "        vertical-align: top;\n",
       "    }\n",
       "\n",
       "    .dataframe thead th {\n",
       "        text-align: right;\n",
       "    }\n",
       "</style>\n",
       "<table border=\"1\" class=\"dataframe\">\n",
       "  <thead>\n",
       "    <tr style=\"text-align: right;\">\n",
       "      <th></th>\n",
       "      <th>relType</th>\n",
       "      <th>count</th>\n",
       "    </tr>\n",
       "  </thead>\n",
       "  <tbody>\n",
       "    <tr>\n",
       "      <th>1</th>\n",
       "      <td>IN_GENRE</td>\n",
       "      <td>8603</td>\n",
       "    </tr>\n",
       "    <tr>\n",
       "      <th>2</th>\n",
       "      <td>SAME_ACTOR</td>\n",
       "      <td>25783</td>\n",
       "    </tr>\n",
       "    <tr>\n",
       "      <th>0</th>\n",
       "      <td>ACTED_IN</td>\n",
       "      <td>30160</td>\n",
       "    </tr>\n",
       "    <tr>\n",
       "      <th>3</th>\n",
       "      <td>SAME_GENRE</td>\n",
       "      <td>3179536</td>\n",
       "    </tr>\n",
       "  </tbody>\n",
       "</table>\n",
       "</div>"
      ],
      "text/plain": [
       "      relType    count\n",
       "1    IN_GENRE     8603\n",
       "2  SAME_ACTOR    25783\n",
       "0    ACTED_IN    30160\n",
       "3  SAME_GENRE  3179536"
      ]
     },
     "execution_count": 6,
     "metadata": {},
     "output_type": "execute_result"
    }
   ],
   "source": [
    "result = {\"relType\": [], \"count\": []}\n",
    "for relationship_type in graph.run(\"CALL db.relationshipTypes()\").to_series():\n",
    "    query = f\"MATCH ()-[:`{relationship_type}`]->() RETURN count(*) as count\"\n",
    "    count = graph.run(query).to_data_frame().iloc[0]['count']\n",
    "    result[\"relType\"].append(relationship_type)\n",
    "    result[\"count\"].append(count)\n",
    "rels_df = pd.DataFrame(data=result)\n",
    "rels_df.sort_values(\"count\")"
   ]
  },
  {
   "cell_type": "markdown",
   "id": "ff5641a6",
   "metadata": {},
   "source": [
    "# 4 Link Prediction"
   ]
  },
  {
   "cell_type": "markdown",
   "id": "eaae142e",
   "metadata": {},
   "source": [
    "## 4.1 Create subgraph "
   ]
  },
  {
   "cell_type": "code",
   "execution_count": 13,
   "id": "bf7c2060",
   "metadata": {},
   "outputs": [
    {
     "data": {
      "text/plain": [
       "{}"
      ]
     },
     "execution_count": 13,
     "metadata": {},
     "output_type": "execute_result"
    }
   ],
   "source": [
    "query = \"\"\"\n",
    "CALL gds.graph.project(\n",
    "  'undirectedGenre',\n",
    "  ['Show','Genre'],\n",
    "  {\n",
    "      IN_GENRE:{orientation: 'UNDIRECTED'}\n",
    "  }\n",
    ")\n",
    "\"\"\"\n",
    "graph.run(query).stats()"
   ]
  },
  {
   "cell_type": "code",
   "execution_count": 17,
   "id": "562d999f",
   "metadata": {},
   "outputs": [
    {
     "data": {
      "text/plain": [
       "{}"
      ]
     },
     "execution_count": 17,
     "metadata": {},
     "output_type": "execute_result"
    }
   ],
   "source": [
    "query = \"\"\"\n",
    "CALL gds.graph.project(\n",
    "  'undirectedActor',\n",
    "  ['Show','Actor'],\n",
    "  {\n",
    "      ACTED_IN:{orientation: 'UNDIRECTED'}\n",
    "  }\n",
    ")\n",
    "\"\"\"\n",
    "graph.run(query).stats()"
   ]
  },
  {
   "cell_type": "code",
   "execution_count": 9,
   "id": "0f298e5a",
   "metadata": {},
   "outputs": [
    {
     "data": {
      "text/plain": [
       "{}"
      ]
     },
     "execution_count": 9,
     "metadata": {},
     "output_type": "execute_result"
    }
   ],
   "source": [
    "query = \"\"\"\n",
    "CALL gds.graph.project(\n",
    "  'undirectedActorAndGenre',\n",
    "  ['Show','Actor','Genre'],\n",
    "  {\n",
    "      ACTED_IN:{orientation: 'UNDIRECTED'},\n",
    "      IN_GENRE:{orientation: 'UNDIRECTED'}\n",
    "  }\n",
    ")\n",
    "\"\"\"\n",
    "graph.run(query).stats()"
   ]
  },
  {
   "cell_type": "markdown",
   "id": "15dfdeae",
   "metadata": {},
   "source": [
    "## 4.2 Node2vec and KNN"
   ]
  },
  {
   "cell_type": "markdown",
   "id": "57686c8b",
   "metadata": {},
   "source": [
    "### Prediction link Show-Genre-Show / Same Genre"
   ]
  },
  {
   "cell_type": "code",
   "execution_count": 14,
   "id": "d6e7e3a7",
   "metadata": {},
   "outputs": [
    {
     "name": "stdout",
     "output_type": "stream",
     "text": [
      "-- 3.471489429473877 seconds --\n"
     ]
    }
   ],
   "source": [
    "query = \"\"\"\n",
    "    CALL gds.node2vec.mutate(\n",
    "      'undirectedGenre',\n",
    "      {\n",
    "        windowSize: 2,\n",
    "        walksPerNode: 100,\n",
    "        walkLength: 10,\n",
    "        mutateProperty: 'node2vec_embedding_genre'\n",
    "      }\n",
    "    )\n",
    "    \"\"\"\n",
    "run_request2(query,LOAD_DATA)"
   ]
  },
  {
   "cell_type": "code",
   "execution_count": 59,
   "id": "2b03f120",
   "metadata": {},
   "outputs": [
    {
     "name": "stdout",
     "output_type": "stream",
     "text": [
      "-- 0.7805418968200684 seconds --\n"
     ]
    }
   ],
   "source": [
    "query = \"\"\"\n",
    "CALL gds.knn.write('undirectedGenre', {\n",
    "    topK: 8,\n",
    "    nodeLabels: [\"Show\"],\n",
    "    nodeProperties: ['node2vec_embedding_genre'],\n",
    "    sampleRate: 1.0,\n",
    "    deltaThreshold: 0.0,\n",
    "    writeRelationshipType: \"SIMILAR_GENRE\",\n",
    "    writeProperty: \"score\"\n",
    "})\n",
    "YIELD nodesCompared, relationshipsWritten, similarityDistribution\n",
    "RETURN nodesCompared, relationshipsWritten, similarityDistribution.mean as meanSimilarity\n",
    "    \"\"\"\n",
    "run_request2(query,LOAD_DATA)"
   ]
  },
  {
   "cell_type": "markdown",
   "id": "69bead92",
   "metadata": {},
   "source": [
    "Test accuracy"
   ]
  },
  {
   "cell_type": "code",
   "execution_count": 60,
   "id": "7ad0ae4d",
   "metadata": {},
   "outputs": [
    {
     "name": "stdout",
     "output_type": "stream",
     "text": [
      "   count(r)\n",
      "0     31256\n"
     ]
    }
   ],
   "source": [
    "query = \"\"\"MATCH (n:Show)-[r:SIMILAR_GENRE]->(m:Show)\n",
    "RETURN count(r)\n",
    "\"\"\"\n",
    "x = graph.run(query).to_data_frame()\n",
    "print(x)\n"
   ]
  },
  {
   "cell_type": "code",
   "execution_count": 61,
   "id": "53651782",
   "metadata": {},
   "outputs": [
    {
     "name": "stdout",
     "output_type": "stream",
     "text": [
      "   count(r)\n",
      "0     31216\n"
     ]
    }
   ],
   "source": [
    "query = \"\"\"MATCH (n:Show)-[r:SIMILAR_GENRE]->(m:Show)\n",
    "WHERE (m)<-[:SAME_GENRE]->(n)\n",
    "RETURN count(r)\n",
    "\"\"\"\n",
    "y = graph.run(query).to_data_frame()\n",
    "print(y)\n"
   ]
  },
  {
   "cell_type": "code",
   "execution_count": 62,
   "id": "6c1aac8e",
   "metadata": {},
   "outputs": [
    {
     "name": "stdout",
     "output_type": "stream",
     "text": [
      "0.9987202457128231\n"
     ]
    }
   ],
   "source": [
    "acc = y[\"count(r)\"][0]/x[\"count(r)\"][0]\n",
    "print(acc)"
   ]
  },
  {
   "cell_type": "code",
   "execution_count": 54,
   "id": "06753ca7",
   "metadata": {},
   "outputs": [],
   "source": []
  },
  {
   "cell_type": "markdown",
   "id": "94265ee8",
   "metadata": {},
   "source": [
    "### Prediction link Show-Actor-Show / Same Actor"
   ]
  },
  {
   "cell_type": "code",
   "execution_count": 21,
   "id": "b4818406",
   "metadata": {},
   "outputs": [
    {
     "name": "stdout",
     "output_type": "stream",
     "text": [
      "-- 169.9011251926422 seconds --\n"
     ]
    }
   ],
   "source": [
    "query = \"\"\"\n",
    "    CALL gds.node2vec.mutate(\n",
    "      'undirectedActor',\n",
    "      {\n",
    "        walksPerNode: 150,\n",
    "        windowSize: 2,\n",
    "        mutateProperty: 'embedding_actor'\n",
    "      }\n",
    "    )\n",
    "    \"\"\"\n",
    "run_request2(query,LOAD_DATA)"
   ]
  },
  {
   "cell_type": "code",
   "execution_count": 30,
   "id": "63cc55e5",
   "metadata": {},
   "outputs": [
    {
     "data": {
      "text/plain": [
       "{}"
      ]
     },
     "execution_count": 30,
     "metadata": {},
     "output_type": "execute_result"
    }
   ],
   "source": [
    "query = \"\"\"\n",
    "CALL gds.knn.write('undirectedActor', {\n",
    "    topK: 5,\n",
    "    nodeLabels: [\"Show\"],\n",
    "    nodeProperties: 'embedding_actor',\n",
    "    sampleRate: 1.0,\n",
    "    deltaThreshold: 0.0,\n",
    "    writeRelationshipType: \"SIMILAR_ACTOR\",\n",
    "    writeProperty: \"score\"\n",
    "})\n",
    "YIELD nodesCompared, relationshipsWritten, similarityDistribution\n",
    "RETURN nodesCompared, relationshipsWritten, similarityDistribution.mean as meanSimilarity\n",
    "    \"\"\"\n",
    "graph.run(query).stats()"
   ]
  },
  {
   "cell_type": "markdown",
   "id": "89f1277d",
   "metadata": {},
   "source": [
    "Test accuracy"
   ]
  },
  {
   "cell_type": "code",
   "execution_count": 31,
   "id": "2f29a8c8",
   "metadata": {},
   "outputs": [
    {
     "name": "stdout",
     "output_type": "stream",
     "text": [
      "   count(r)\n",
      "0     19535\n"
     ]
    }
   ],
   "source": [
    "query = \"\"\"MATCH (n:Show)-[r:SIMILAR_ACTOR]->(m:Show)\n",
    "RETURN count(r)\n",
    "\"\"\"\n",
    "x = graph.run(query).to_data_frame()\n",
    "print(x)\n"
   ]
  },
  {
   "cell_type": "code",
   "execution_count": 32,
   "id": "3ba469a8",
   "metadata": {},
   "outputs": [
    {
     "name": "stdout",
     "output_type": "stream",
     "text": [
      "   count(r)\n",
      "0     12096\n"
     ]
    }
   ],
   "source": [
    "query = \"\"\"MATCH (n:Show)-[r:SIMILAR_ACTOR]->(m:Show)\n",
    "WHERE (m)<-[:SAME_ACTOR]->(n)\n",
    "RETURN count(r)\n",
    "\"\"\"\n",
    "y = graph.run(query).to_data_frame()\n",
    "print(y)\n"
   ]
  },
  {
   "cell_type": "code",
   "execution_count": 33,
   "id": "32af8a3c",
   "metadata": {},
   "outputs": [
    {
     "name": "stdout",
     "output_type": "stream",
     "text": [
      "0.619196314307653\n"
     ]
    }
   ],
   "source": [
    "acc = y[\"count(r)\"][0]/x[\"count(r)\"][0]\n",
    "print(acc)"
   ]
  },
  {
   "cell_type": "markdown",
   "id": "700c8228",
   "metadata": {},
   "source": [
    "### Prediction link Show-Actor/Genre-Show (Similar)"
   ]
  },
  {
   "cell_type": "code",
   "execution_count": 36,
   "id": "51af6575",
   "metadata": {},
   "outputs": [
    {
     "name": "stdout",
     "output_type": "stream",
     "text": [
      "-- 43.65408515930176 seconds --\n"
     ]
    }
   ],
   "source": [
    "query = \"\"\"\n",
    "    CALL gds.node2vec.mutate(\n",
    "      'undirectedActorAndGenre',\n",
    "      {\n",
    "        windowSize: 2,\n",
    "        walkLength: 10,\n",
    "        walksPerNode: 200,\n",
    "        mutateProperty: 'embedding1'\n",
    "      }\n",
    "    )\n",
    "    \"\"\"\n",
    "run_request2(query,LOAD_DATA)"
   ]
  },
  {
   "cell_type": "code",
   "execution_count": 37,
   "id": "91306d35",
   "metadata": {},
   "outputs": [
    {
     "name": "stdout",
     "output_type": "stream",
     "text": [
      "-- 2.7717297077178955 seconds --\n"
     ]
    }
   ],
   "source": [
    "query = \"\"\"\n",
    "CALL gds.knn.write('undirectedActorAndGenre', {\n",
    "    topK: 5,\n",
    "    nodeLabels: [\"Show\"],\n",
    "    nodeProperties: 'embedding1',\n",
    "    sampleRate: 1.0,\n",
    "    deltaThreshold: 0.0,\n",
    "    writeRelationshipType: \"SIMILAR\",\n",
    "    writeProperty: \"score\"\n",
    "})\n",
    "YIELD nodesCompared, relationshipsWritten, similarityDistribution\n",
    "RETURN nodesCompared, relationshipsWritten, similarityDistribution.mean as meanSimilarity\n",
    "    \"\"\"\n",
    "run_request2(query,LOAD_DATA)"
   ]
  },
  {
   "cell_type": "code",
   "execution_count": 38,
   "id": "d2e43e4d",
   "metadata": {},
   "outputs": [
    {
     "name": "stdout",
     "output_type": "stream",
     "text": [
      "   count(r)\n",
      "0     19535\n"
     ]
    }
   ],
   "source": [
    "query = \"\"\"MATCH (n:Show)-[r:SIMILAR]->(m:Show)\n",
    "RETURN count(r)\n",
    "\"\"\"\n",
    "x = graph.run(query).to_data_frame()\n",
    "print(x)\n"
   ]
  },
  {
   "cell_type": "code",
   "execution_count": 40,
   "id": "ecd4efcf",
   "metadata": {},
   "outputs": [
    {
     "name": "stdout",
     "output_type": "stream",
     "text": [
      "   count(r)\n",
      "0      7428\n"
     ]
    }
   ],
   "source": [
    "query = \"\"\"MATCH (n:Show)-[r:SIMILAR]->(m:Show)\n",
    "WHERE (m)<-[:SAME_ACTOR]->(n) and (m)<-[:SAME_GENRE]->(n)\n",
    "RETURN count(r)\n",
    "\"\"\"\n",
    "y = graph.run(query).to_data_frame()\n",
    "print(y)"
   ]
  },
  {
   "cell_type": "code",
   "execution_count": null,
   "id": "6efb38c9",
   "metadata": {},
   "outputs": [],
   "source": [
    "acc = y[\"count(r)\"][0]/x[\"count(r)\"][0]\n",
    "print(acc)"
   ]
  },
  {
   "cell_type": "markdown",
   "id": "3c35d616",
   "metadata": {},
   "source": [
    "## 4.3 COMMON NEIGHBOR "
   ]
  },
  {
   "cell_type": "markdown",
   "id": "a8fd360b",
   "metadata": {},
   "source": [
    "### Recommand By Same Genre"
   ]
  },
  {
   "cell_type": "code",
   "execution_count": 52,
   "id": "4f00dfbd",
   "metadata": {},
   "outputs": [
    {
     "name": "stdout",
     "output_type": "stream",
     "text": [
      "              s2.title  SCORE\n",
      "0   Tall Girl, 103 min  2.000\n",
      "1        Turbo, 96 min  2.000\n",
      "2    Next Gen, 106 min  2.000\n",
      "3        Leap!, 89 min  2.000\n",
      "4  Open Season, 86 min  2.000\n",
      "0.6565806865692139\n"
     ]
    }
   ],
   "source": [
    "def rcm_by_cn_genre(show):\n",
    "    querry = \"\"\"\n",
    "        MATCH (s:Show{title:\"\"\" +\"'\"+ show+\"'\" + \"\"\"})\n",
    "        MATCH (s2:Show)\n",
    "        WITH s,s2, gds.alpha.linkprediction.commonNeighbors(s, s2, {relationshipQuery: \"IN_GENRE\"}) AS SCORE\n",
    "        ORDER BY SCORE DESC\n",
    "        RETURN s2.title,SCORE\n",
    "        LIMIT 5 \"\"\"\n",
    "    print(graph.run(querry).to_data_frame())\n",
    "\n",
    "start = time.time()\n",
    "rcm_by_cn_genre(\"Norm of the North: King Sized Adventure, 90 min\")\n",
    "t = time.time() - start\n",
    "print(t)"
   ]
  },
  {
   "cell_type": "markdown",
   "id": "bd6ab838",
   "metadata": {},
   "source": [
    "### Recommand By Same Actor"
   ]
  },
  {
   "cell_type": "code",
   "execution_count": 63,
   "id": "39e0ecd6",
   "metadata": {},
   "outputs": [
    {
     "name": "stdout",
     "output_type": "stream",
     "text": [
      "                                         s2.title  SCORE\n",
      "0  Norm of the North: Keys to the Kingdom, 92 min  6.000\n",
      "1                 Barbie: Video Game Hero, 72 min  1.000\n",
      "2                Barbie in Rock 'N Royals, 83 min  1.000\n",
      "3                       Barbie: Spy Squad, 75 min  1.000\n",
      "4      Barbie: The Princess & the Popstar, 75 min  1.000\n",
      "0.05657958984375\n"
     ]
    }
   ],
   "source": [
    "def rcm_by_cn_actor(show):\n",
    "    querry = \"\"\"\n",
    "        MATCH (s:Show{title:\"\"\" +\"'\"+ show+\"'\" + \"\"\"})\n",
    "        MATCH (s2:Show)\n",
    "        WITH s,s2, gds.alpha.linkprediction.commonNeighbors(s, s2, {relationshipQuery: \"ACTED_IN\"}) AS SCORE\n",
    "        ORDER BY SCORE DESC\n",
    "        RETURN s2.title,SCORE\n",
    "        LIMIT 5 \"\"\"\n",
    "    print(graph.run(querry).to_data_frame())\n",
    "\n",
    "start = time.time()\n",
    "rcm_by_cn_genre(\"Norm of the North: King Sized Adventure, 90 min\")\n",
    "t = time.time() - start\n",
    "print(t)"
   ]
  },
  {
   "cell_type": "markdown",
   "id": "5ac9e6eb",
   "metadata": {},
   "source": [
    " ## 4.4 Node2vec with Logistic Regression prediction link Same Actor"
   ]
  },
  {
   "cell_type": "code",
   "execution_count": 19,
   "id": "b44c6bea",
   "metadata": {},
   "outputs": [
    {
     "data": {
      "text/plain": [
       "{}"
      ]
     },
     "execution_count": 19,
     "metadata": {},
     "output_type": "execute_result"
    }
   ],
   "source": [
    "query = \"\"\"\n",
    "CALL gds.graph.project(\n",
    "  'undirectedSameActor',\n",
    "  ['Show'],\n",
    "  {\n",
    "      SAME_ACTOR:{orientation: 'UNDIRECTED'}\n",
    "  }\n",
    ")\n",
    "\"\"\"\n",
    "graph.run(query).stats()"
   ]
  },
  {
   "cell_type": "code",
   "execution_count": 6,
   "id": "2742672d",
   "metadata": {},
   "outputs": [
    {
     "data": {
      "text/html": [
       "<table><tr><th>name</th><th>nodePropertySteps</th><th>featureSteps</th><th>splitConfig</th><th>autoTuningConfig</th><th>parameterSpace</th></tr><tr><td style=\"text-align:left\">pipe</td><td style=\"text-align:left\">[]</td><td style=\"text-align:left\">[]</td><td style=\"text-align:left\">{testFraction: 0.1, validationFolds: 3, trainFraction: 0.1, negativeSamplingRatio: 1.0}</td><td style=\"text-align:left\">{maxTrials: 10}</td><td style=\"text-align:left\">{MultilayerPerceptron: [], RandomForest: [], LogisticRegression: []}</td></tr></table>"
      ],
      "text/plain": [
       " name | nodePropertySteps | featureSteps | splitConfig                                                                             | autoTuningConfig | parameterSpace                                                       \n",
       "------|-------------------|--------------|-----------------------------------------------------------------------------------------|------------------|----------------------------------------------------------------------\n",
       " pipe | []                | []           | {testFraction: 0.1, validationFolds: 3, trainFraction: 0.1, negativeSamplingRatio: 1.0} | {maxTrials: 10}  | {MultilayerPerceptron: [], RandomForest: [], LogisticRegression: []} "
      ]
     },
     "execution_count": 6,
     "metadata": {},
     "output_type": "execute_result"
    }
   ],
   "source": [
    "query = \"\"\"CALL gds.beta.pipeline.linkPrediction.create('pipe');\"\"\"\n",
    "graph.run(query)"
   ]
  },
  {
   "cell_type": "code",
   "execution_count": 7,
   "id": "32b00ffb",
   "metadata": {},
   "outputs": [
    {
     "name": "stdout",
     "output_type": "stream",
     "text": [
      "-- 0.3276350498199463 seconds --\n"
     ]
    }
   ],
   "source": [
    "query = \"\"\"CALL gds.beta.pipeline.linkPrediction.configureSplit('pipe', {\n",
    "    testFraction: 0.2,\n",
    "    trainFraction: 0.6,\n",
    "    negativeSamplingRatio: 2.0\n",
    "}) YIELD splitConfig;\"\"\"\n",
    "run_request2(query,LOAD_DATA)"
   ]
  },
  {
   "cell_type": "code",
   "execution_count": 9,
   "id": "dfec2242",
   "metadata": {},
   "outputs": [
    {
     "name": "stdout",
     "output_type": "stream",
     "text": [
      "-- 0.658174991607666 seconds --\n"
     ]
    }
   ],
   "source": [
    "query = \"\"\"CALL gds.beta.pipeline.linkPrediction.addNodeProperty('pipe', 'node2vec', {\n",
    "    mutateProperty: 'embedding',\n",
    "    embeddingDimension: 128\n",
    "}) YIELD nodePropertySteps;\"\"\"\n",
    "\n",
    "run_request2(query,LOAD_DATA)"
   ]
  },
  {
   "cell_type": "code",
   "execution_count": 10,
   "id": "e20697c6",
   "metadata": {},
   "outputs": [
    {
     "name": "stdout",
     "output_type": "stream",
     "text": [
      "-- 0.18152141571044922 seconds --\n"
     ]
    }
   ],
   "source": [
    "query = \"\"\"\n",
    "CALL gds.beta.pipeline.linkPrediction.addFeature('pipe', 'cosine', {\n",
    "  nodeProperties: ['embedding']\n",
    "}) YIELD featureSteps;\"\"\"\n",
    "run_request2(query,LOAD_DATA)\n",
    "\n",
    "query = \"\"\"\n",
    "CALL gds.beta.pipeline.linkPrediction.addFeature('pipe', 'l2', {\n",
    "  nodeProperties: ['embedding']\n",
    "}) YIELD featureSteps;\"\"\"\n",
    "run_request2(query,LOAD_DATA)"
   ]
  },
  {
   "cell_type": "code",
   "execution_count": 11,
   "id": "2c729a77",
   "metadata": {},
   "outputs": [
    {
     "name": "stdout",
     "output_type": "stream",
     "text": [
      "-- 0.19164705276489258 seconds --\n"
     ]
    }
   ],
   "source": [
    "query = \"\"\"CALL gds.beta.pipeline.linkPrediction.addLogisticRegression('pipe', {\n",
    "    penalty: 0.01,\n",
    "    patience: 2\n",
    "}) YIELD parameterSpace;\n",
    "\n",
    "\"\"\"\n",
    "run_request2(query,LOAD_DATA)"
   ]
  },
  {
   "cell_type": "code",
   "execution_count": 29,
   "id": "3fec3483",
   "metadata": {},
   "outputs": [
    {
     "name": "stdout",
     "output_type": "stream",
     "text": [
      "   avgTrainScore  outerTrainScore  testScore\n",
      "0          0.826            0.826      0.822\n",
      "-- 17.711482763290405 seconds --\n"
     ]
    }
   ],
   "source": [
    "query =\"\"\"CALL gds.beta.pipeline.linkPrediction.train('undirectedSameActor', {\n",
    "    pipeline: 'pipe',\n",
    "    modelName: 'lp-pipeline-model',\n",
    "    targetRelationshipType: 'SAME_ACTOR'\n",
    "}) YIELD modelInfo\n",
    "RETURN\n",
    "modelInfo.metrics.AUCPR.train.avg AS avgTrainScore,\n",
    "modelInfo.metrics.AUCPR.outerTrain AS outerTrainScore,\n",
    "modelInfo.metrics.AUCPR.test AS testScore\n",
    "\"\"\"\n",
    "run_request3(query,LOAD_DATA)"
   ]
  },
  {
   "cell_type": "code",
   "execution_count": null,
   "id": "c3ae0cfe",
   "metadata": {},
   "outputs": [],
   "source": []
  },
  {
   "cell_type": "markdown",
   "id": "f0c2465b",
   "metadata": {},
   "source": [
    "# 5 Using for recommand"
   ]
  },
  {
   "cell_type": "code",
   "execution_count": 42,
   "id": "037c910a",
   "metadata": {},
   "outputs": [
    {
     "data": {
      "text/html": [
       "<div>\n",
       "<style scoped>\n",
       "    .dataframe tbody tr th:only-of-type {\n",
       "        vertical-align: middle;\n",
       "    }\n",
       "\n",
       "    .dataframe tbody tr th {\n",
       "        vertical-align: top;\n",
       "    }\n",
       "\n",
       "    .dataframe thead th {\n",
       "        text-align: right;\n",
       "    }\n",
       "</style>\n",
       "<table border=\"1\" class=\"dataframe\">\n",
       "  <thead>\n",
       "    <tr style=\"text-align: right;\">\n",
       "      <th></th>\n",
       "      <th>Show</th>\n",
       "      <th>similarity</th>\n",
       "    </tr>\n",
       "  </thead>\n",
       "  <tbody>\n",
       "    <tr>\n",
       "      <th>0</th>\n",
       "      <td>The Art of the Steal, December 8, 2018</td>\n",
       "      <td>0.990</td>\n",
       "    </tr>\n",
       "    <tr>\n",
       "      <th>1</th>\n",
       "      <td>The Do-Over, May 27, 2016</td>\n",
       "      <td>0.980</td>\n",
       "    </tr>\n",
       "    <tr>\n",
       "      <th>2</th>\n",
       "      <td>Lock, Stock and Two Smoking Barrels, January 1...</td>\n",
       "      <td>0.987</td>\n",
       "    </tr>\n",
       "    <tr>\n",
       "      <th>3</th>\n",
       "      <td>Band of Robbers, April 15, 2016</td>\n",
       "      <td>0.989</td>\n",
       "    </tr>\n",
       "    <tr>\n",
       "      <th>4</th>\n",
       "      <td>Petta, April 5, 2019</td>\n",
       "      <td>0.979</td>\n",
       "    </tr>\n",
       "    <tr>\n",
       "      <th>5</th>\n",
       "      <td>Free Fire, October 21, 2019</td>\n",
       "      <td>0.982</td>\n",
       "    </tr>\n",
       "    <tr>\n",
       "      <th>6</th>\n",
       "      <td>Happy New Year, February 1, 2017</td>\n",
       "      <td>0.980</td>\n",
       "    </tr>\n",
       "    <tr>\n",
       "      <th>7</th>\n",
       "      <td>Darc, May 1, 2018</td>\n",
       "      <td>0.983</td>\n",
       "    </tr>\n",
       "  </tbody>\n",
       "</table>\n",
       "</div>"
      ],
      "text/plain": [
       "                                                Show  similarity\n",
       "0             The Art of the Steal, December 8, 2018       0.990\n",
       "1                          The Do-Over, May 27, 2016       0.980\n",
       "2  Lock, Stock and Two Smoking Barrels, January 1...       0.987\n",
       "3                    Band of Robbers, April 15, 2016       0.989\n",
       "4                               Petta, April 5, 2019       0.979\n",
       "5                        Free Fire, October 21, 2019       0.982\n",
       "6                   Happy New Year, February 1, 2017       0.980\n",
       "7                                  Darc, May 1, 2018       0.983"
      ]
     },
     "execution_count": 42,
     "metadata": {},
     "output_type": "execute_result"
    }
   ],
   "source": [
    "query = \"\"\"MATCH (n:Show{title: \"Hell and Back, September 6, 2018\"})-[r:SIMILAR_GENRE]->(m:Show)\n",
    "RETURN m.title as Show, r.score as similarity\n",
    "\"\"\"\n",
    "graph.run(query).to_data_frame()\n",
    "    "
   ]
  },
  {
   "cell_type": "code",
   "execution_count": null,
   "id": "8849e170",
   "metadata": {},
   "outputs": [],
   "source": []
  }
 ],
 "metadata": {
  "kernelspec": {
   "display_name": "Python 3 (ipykernel)",
   "language": "python",
   "name": "python3"
  },
  "language_info": {
   "codemirror_mode": {
    "name": "ipython",
    "version": 3
   },
   "file_extension": ".py",
   "mimetype": "text/x-python",
   "name": "python",
   "nbconvert_exporter": "python",
   "pygments_lexer": "ipython3",
   "version": "3.10.13"
  }
 },
 "nbformat": 4,
 "nbformat_minor": 5
}
